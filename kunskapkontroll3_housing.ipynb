{
 "cells": [
  {
   "cell_type": "markdown",
   "id": "ad96ec8f-b7ac-41b1-91fc-41a306465188",
   "metadata": {},
   "source": [
    "# Step 1: Load and Understand the Dataset\n"
   ]
  },
  {
   "cell_type": "code",
   "execution_count": null,
   "id": "68b9cb0c-2ee8-45fb-a00c-5be9275cec6c",
   "metadata": {},
   "outputs": [],
   "source": [
    "import numpy as np\n",
    "import matplotlib.pyplot as plt\n",
    "import pandas as pd\n",
    "\n",
    "# Load the dataset\n",
    "housing_or = pd.read_csv('housing.csv')\n",
    "\n",
    "# Check dataset info\n",
    "print(housing_or.info())\n",
    "\n",
    "# Display the first 5 rows to get a feel of the data\n",
    "print(housing_or.head())\n"
   ]
  },
  {
   "cell_type": "markdown",
   "id": "b7eeb25b-a334-4b65-80fe-4b22e790715d",
   "metadata": {},
   "source": [
    "# Step 2: Handle Missing Values"
   ]
  },
  {
   "cell_type": "code",
   "execution_count": null,
   "id": "11c65dc2-fc56-4901-8894-e9e470702a47",
   "metadata": {},
   "outputs": [],
   "source": [
    "# Check for missing values\n",
    "print(housing_or.isnull().sum())\n",
    "\n",
    "\n",
    "# delete the row of missing value\n",
    "housing = housing_or.dropna()\n",
    "print()\n",
    "\n",
    "# Verify if there are any more missing values\n",
    "print(housing.isnull().sum())\n"
   ]
  },
  {
   "cell_type": "markdown",
   "id": "1af0263e-8e01-4f2c-a82f-b57e2c5c4c52",
   "metadata": {},
   "source": [
    "# Step 3: Descriptive Statistics"
   ]
  },
  {
   "cell_type": "code",
   "execution_count": null,
   "id": "84d9c8a5-1365-460a-82d1-a054d74d4a1d",
   "metadata": {},
   "outputs": [],
   "source": [
    "# Show descriptive statistics\n",
    "print(housing.describe())\n"
   ]
  },
  {
   "cell_type": "markdown",
   "id": "cb0920eb-3601-4cd8-a858-4848edc4c399",
   "metadata": {},
   "source": [
    "# Step 4: Visualizations"
   ]
  },
  {
   "cell_type": "markdown",
   "id": "982e6c6b-77c3-43c9-83cf-a31e1fd29099",
   "metadata": {},
   "source": [
    "## Histogram of median_house_value\n",
    "\n"
   ]
  },
  {
   "cell_type": "code",
   "execution_count": null,
   "id": "85e6a9fc-fb15-4f89-833d-00652b29f4a5",
   "metadata": {},
   "outputs": [],
   "source": [
    "import matplotlib.pyplot as plt\n",
    "import seaborn as sns\n",
    "\n",
    "# Histogram for median_house_value\n",
    "plt.figure(figsize=(10, 6))\n",
    "sns.histplot(housing['median_house_value'], kde=True, bins=50)\n",
    "plt.title('Distribution of Median House Value')\n",
    "plt.xlabel('Median House Value ($100,000)')\n",
    "plt.ylabel('Frequency')\n",
    "plt.show()\n"
   ]
  },
  {
   "cell_type": "markdown",
   "id": "b470a501-8825-4f92-898d-a49ae1ffea9a",
   "metadata": {},
   "source": [
    "## Scatter Plot Between median_house_value and median_income"
   ]
  },
  {
   "cell_type": "code",
   "execution_count": null,
   "id": "94f70b08-fde3-4624-8fad-7e00308c5c98",
   "metadata": {},
   "outputs": [],
   "source": [
    "# Scatter plot between median_house_value and median_income\n",
    "plt.figure(figsize=(10, 6))\n",
    "sns.scatterplot(x='median_income', y='median_house_value', data=housing, alpha=0.6)\n",
    "plt.title('Relationship Between Median Income and House Value')\n",
    "plt.xlabel('Median Income')\n",
    "plt.ylabel('Median House Value ($100,000)')\n",
    "plt.show()\n"
   ]
  },
  {
   "cell_type": "markdown",
   "id": "8635ffc2-366d-474f-87a8-559e399ae2e0",
   "metadata": {},
   "source": [
    "## Box Plot for ocean_proximity and median_house_value"
   ]
  },
  {
   "cell_type": "code",
   "execution_count": null,
   "id": "4f14fdd7-5319-411f-9598-c4d4f64b1a7b",
   "metadata": {},
   "outputs": [],
   "source": [
    "# Box plot for ocean_proximity and median_house_value\n",
    "plt.figure(figsize=(12, 6))\n",
    "sns.boxplot(x='ocean_proximity', y='median_house_value', data=housing)\n",
    "plt.title('House Values by Ocean Proximity')\n",
    "plt.xlabel('Ocean Proximity')\n",
    "plt.ylabel('Median House Value ($100,000)')\n",
    "plt.xticks(rotation=45)\n",
    "plt.show()\n"
   ]
  },
  {
   "cell_type": "markdown",
   "id": "983ea228-b435-4782-921a-376384b16f12",
   "metadata": {},
   "source": [
    "### We can also explore how proximity to the ocean differ by house age"
   ]
  },
  {
   "cell_type": "code",
   "execution_count": null,
   "id": "912eafed-5cc0-4f1b-84d5-d2e96ac89f72",
   "metadata": {},
   "outputs": [],
   "source": [
    "# Box plot for ocean_proximity and median_house_value\n",
    "plt.figure(figsize=(20, 10))\n",
    "sns.boxplot(x='housing_median_age', y='ocean_proximity', data=housing)\n",
    "plt.title('House age by Ocean Proximity')\n",
    "plt.xlabel('housing median age')\n",
    "plt.ylabel('Ocean Proximity')\n",
    "plt.xticks(rotation=45)\n",
    "plt.show()\n"
   ]
  },
  {
   "cell_type": "code",
   "execution_count": null,
   "id": "1160d6b0-1c2f-437a-9773-d777822c2ae1",
   "metadata": {},
   "outputs": [],
   "source": [
    "\n"
   ]
  },
  {
   "cell_type": "markdown",
   "id": "3221a4c9-5825-41cd-90bf-10cfe84258ba",
   "metadata": {},
   "source": [
    "## Step 5: Geographical Distribution"
   ]
  },
  {
   "cell_type": "code",
   "execution_count": null,
   "id": "2088f038-2b61-4f2f-a771-5f4def309925",
   "metadata": {},
   "outputs": [],
   "source": [
    "# Geographical distribution of house value\n",
    "plt.figure(figsize=(10, 6))\n",
    "sns.scatterplot(x='longitude', y='latitude', hue='median_house_value', palette='coolwarm', data=housing, size='population', sizes=(10, 100), alpha=0.6)\n",
    "plt.title('Geographical Distribution of House Values')\n",
    "plt.xlabel('Longitude')\n",
    "plt.ylabel('Latitude')\n",
    "plt.legend(title='Median House Value', bbox_to_anchor=(1.05, 1), loc='upper left')\n",
    "plt.show()\n"
   ]
  },
  {
   "cell_type": "markdown",
   "id": "83b73fe0-592d-4b69-b81f-5d1a61ee40e5",
   "metadata": {},
   "source": [
    "## Step 6: Correlation Between Numeric Variables"
   ]
  },
  {
   "cell_type": "code",
   "execution_count": null,
   "id": "cd704a2a-77d9-46e2-a095-bc156f5024fc",
   "metadata": {},
   "outputs": [],
   "source": [
    "# Select only numeric columns for correlation calculation\n",
    "numeric_columns = housing.select_dtypes(include=['float64', 'int64']).columns\n",
    "\n",
    "# Calculate the correlation matrix for numeric columns only\n",
    "correlation_matrix = housing[numeric_columns].corr()\n",
    "\n",
    "# Visualize the correlation matrix using a heatmap\n",
    "plt.figure(figsize=(12, 8))\n",
    "sns.heatmap(correlation_matrix, annot=True, cmap='coolwarm', fmt='.2f', linewidths=0.5)\n",
    "plt.title('Correlation Between Numeric Variables')\n",
    "plt.show()\n"
   ]
  },
  {
   "cell_type": "code",
   "execution_count": null,
   "id": "55eb0a34-d2ec-437f-8832-6dc04940fa1c",
   "metadata": {},
   "outputs": [],
   "source": []
  }
 ],
 "metadata": {
  "kernelspec": {
   "display_name": "Python 3 (ipykernel)",
   "language": "python",
   "name": "python3"
  },
  "language_info": {
   "codemirror_mode": {
    "name": "ipython",
    "version": 3
   },
   "file_extension": ".py",
   "mimetype": "text/x-python",
   "name": "python",
   "nbconvert_exporter": "python",
   "pygments_lexer": "ipython3",
   "version": "3.12.7"
  }
 },
 "nbformat": 4,
 "nbformat_minor": 5
}
